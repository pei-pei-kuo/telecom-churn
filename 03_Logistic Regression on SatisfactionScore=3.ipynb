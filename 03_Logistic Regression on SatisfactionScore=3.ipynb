{
 "cells": [
  {
   "cell_type": "code",
   "execution_count": 1,
   "metadata": {},
   "outputs": [],
   "source": [
    "import numpy as np\n",
    "import pandas as pd\n",
    "import seaborn as sns\n",
    "import matplotlib.ticker as mtick \n",
    "import matplotlib.pyplot as plt\n",
    "\n",
    "# Prediction libaries - Logistic regression\n",
    "from sklearn.preprocessing import OneHotEncoder, LabelEncoder, StandardScaler\n",
    "from sklearn.metrics import roc_curve, auc\n",
    "from sklearn.model_selection import train_test_split, StratifiedKFold\n",
    "from sklearn.linear_model import LogisticRegression\n",
    "from sklearn.metrics import classification_report, confusion_matrix"
   ]
  },
  {
   "cell_type": "code",
   "execution_count": 2,
   "metadata": {},
   "outputs": [],
   "source": [
    "data = pd.read_csv('telecomdata.csv',index_col=0)"
   ]
  },
  {
   "cell_type": "code",
   "execution_count": 3,
   "metadata": {},
   "outputs": [],
   "source": [
    "# Convert Total Charges to numerical\n",
    "data.TotalCharges = pd.to_numeric(data.TotalCharges, errors='coerce')\n",
    "# Fill NA churn reason with Not Churn\n",
    "data['ChurnReasonCategory'] = data['ChurnReasonCategory'].fillna('Not Churn')\n",
    "data['ChurnReason'] = data['ChurnReason'].fillna('Not Churn')\n",
    "data.dropna(inplace = True)"
   ]
  },
  {
   "cell_type": "markdown",
   "metadata": {},
   "source": [
    "# Logistic Regression"
   ]
  },
  {
   "cell_type": "code",
   "execution_count": 4,
   "metadata": {},
   "outputs": [],
   "source": [
    "#Remove columns related to info after knowing churn\n",
    "data.drop(columns=['ChurnReason', 'ChurnReasonCategory', 'ChurnScore'],inplace = True)"
   ]
  },
  {
   "cell_type": "markdown",
   "metadata": {},
   "source": [
    "Only predict on customers with Satisfactory Score =3"
   ]
  },
  {
   "cell_type": "code",
   "execution_count": 5,
   "metadata": {},
   "outputs": [],
   "source": [
    "data = data.loc[data['SatisfactionScore'] == 3]\n",
    "data.drop(columns=['SatisfactionScore'],inplace = True)"
   ]
  },
  {
   "cell_type": "markdown",
   "metadata": {},
   "source": [
    "Categorical variables"
   ]
  },
  {
   "cell_type": "code",
   "execution_count": 6,
   "metadata": {},
   "outputs": [],
   "source": [
    "non_numeric_features = ['Gender', 'SeniorCitizen', 'Dependents', 'PhoneService', 'MultipleLines', 'InternetService', 'OnlineSecurity',\n",
    "                       'OnlineBackup', 'DeviceProtection', 'TechSupport', 'StreamingTV', 'StreamingMovies', 'Contract', \n",
    "                       'PaperlessBilling', 'PaymentMethod', 'ChurnValue', 'Under30', 'Married', 'ReferredaFriend', 'Offer', \n",
    "                       'InternetType', 'DeviceProtectionPlan', 'PremiumTechSupport', 'StreamingMusic', 'UnlimitedData']\n",
    "\n",
    "for feature in non_numeric_features:     \n",
    "    # Encode target labels with value between 0 and n_classes-1\n",
    "    data[feature] = LabelEncoder().fit_transform(data[feature])"
   ]
  },
  {
   "cell_type": "code",
   "execution_count": 7,
   "metadata": {},
   "outputs": [],
   "source": [
    "#Remove customer IDs, city, zipcode from the data set\n",
    "data = data.iloc[:,3:]"
   ]
  },
  {
   "cell_type": "code",
   "execution_count": 8,
   "metadata": {},
   "outputs": [
    {
     "name": "stdout",
     "output_type": "stream",
     "text": [
      "<class 'pandas.core.frame.DataFrame'>\n",
      "Int64Index: 2662 entries, 2 to 7039\n",
      "Data columns (total 40 columns):\n",
      "Gender                           2662 non-null int64\n",
      "SeniorCitizen                    2662 non-null int64\n",
      "Dependents                       2662 non-null int64\n",
      "TenureMonths                     2662 non-null int64\n",
      "PhoneService                     2662 non-null int64\n",
      "MultipleLines                    2662 non-null int64\n",
      "InternetService                  2662 non-null int64\n",
      "OnlineSecurity                   2662 non-null int64\n",
      "OnlineBackup                     2662 non-null int64\n",
      "DeviceProtection                 2662 non-null int64\n",
      "TechSupport                      2662 non-null int64\n",
      "StreamingTV                      2662 non-null int64\n",
      "StreamingMovies                  2662 non-null int64\n",
      "Contract                         2662 non-null int64\n",
      "PaperlessBilling                 2662 non-null int64\n",
      "PaymentMethod                    2662 non-null int64\n",
      "MonthlyCharges                   2662 non-null float64\n",
      "TotalCharges                     2662 non-null float64\n",
      "ChurnValue                       2662 non-null int64\n",
      "CLTV                             2662 non-null int64\n",
      "Age                              2662 non-null int64\n",
      "Under30                          2662 non-null int64\n",
      "Married                          2662 non-null int64\n",
      "NumberofDependents               2662 non-null int64\n",
      "ReferredaFriend                  2662 non-null int64\n",
      "NumberofReferrals                2662 non-null int64\n",
      "TenureinMonths                   2662 non-null int64\n",
      "Offer                            2662 non-null int64\n",
      "AvgMonthlyLongDistanceCharges    2662 non-null float64\n",
      "InternetType                     2662 non-null int64\n",
      "AvgMonthlyGBDownload             2662 non-null int64\n",
      "DeviceProtectionPlan             2662 non-null int64\n",
      "PremiumTechSupport               2662 non-null int64\n",
      "StreamingMusic                   2662 non-null int64\n",
      "UnlimitedData                    2662 non-null int64\n",
      "MonthlyCharge                    2662 non-null float64\n",
      "TotalRefunds                     2662 non-null float64\n",
      "TotalExtraDataCharges            2662 non-null int64\n",
      "TotalLongDistanceCharges         2662 non-null float64\n",
      "TotalRevenue                     2662 non-null float64\n",
      "dtypes: float64(7), int64(33)\n",
      "memory usage: 852.7 KB\n"
     ]
    }
   ],
   "source": [
    "data.info()"
   ]
  },
  {
   "cell_type": "code",
   "execution_count": 9,
   "metadata": {},
   "outputs": [
    {
     "name": "stdout",
     "output_type": "stream",
     "text": [
      "Number of encoded feautes: 14\n"
     ]
    },
    {
     "name": "stderr",
     "output_type": "stream",
     "text": [
      "/Users/xiamingjin/miniconda3/lib/python3.7/site-packages/sklearn/preprocessing/_encoders.py:415: FutureWarning: The handling of integer data will change in version 0.22. Currently, the categories are determined based on the range [0, max(values)], while in the future they will be determined based on the unique values.\n",
      "If you want the future behaviour and silence this warning, you can specify \"categories='auto'\".\n",
      "In case you used a LabelEncoder before this OneHotEncoder to convert the categories to integers, then you can now use the OneHotEncoder directly.\n",
      "  warnings.warn(msg, FutureWarning)\n",
      "/Users/xiamingjin/miniconda3/lib/python3.7/site-packages/sklearn/preprocessing/_encoders.py:415: FutureWarning: The handling of integer data will change in version 0.22. Currently, the categories are determined based on the range [0, max(values)], while in the future they will be determined based on the unique values.\n",
      "If you want the future behaviour and silence this warning, you can specify \"categories='auto'\".\n",
      "In case you used a LabelEncoder before this OneHotEncoder to convert the categories to integers, then you can now use the OneHotEncoder directly.\n",
      "  warnings.warn(msg, FutureWarning)\n",
      "/Users/xiamingjin/miniconda3/lib/python3.7/site-packages/sklearn/preprocessing/_encoders.py:415: FutureWarning: The handling of integer data will change in version 0.22. Currently, the categories are determined based on the range [0, max(values)], while in the future they will be determined based on the unique values.\n",
      "If you want the future behaviour and silence this warning, you can specify \"categories='auto'\".\n",
      "In case you used a LabelEncoder before this OneHotEncoder to convert the categories to integers, then you can now use the OneHotEncoder directly.\n",
      "  warnings.warn(msg, FutureWarning)\n",
      "/Users/xiamingjin/miniconda3/lib/python3.7/site-packages/sklearn/preprocessing/_encoders.py:415: FutureWarning: The handling of integer data will change in version 0.22. Currently, the categories are determined based on the range [0, max(values)], while in the future they will be determined based on the unique values.\n",
      "If you want the future behaviour and silence this warning, you can specify \"categories='auto'\".\n",
      "In case you used a LabelEncoder before this OneHotEncoder to convert the categories to integers, then you can now use the OneHotEncoder directly.\n",
      "  warnings.warn(msg, FutureWarning)\n",
      "/Users/xiamingjin/miniconda3/lib/python3.7/site-packages/sklearn/preprocessing/_encoders.py:415: FutureWarning: The handling of integer data will change in version 0.22. Currently, the categories are determined based on the range [0, max(values)], while in the future they will be determined based on the unique values.\n",
      "If you want the future behaviour and silence this warning, you can specify \"categories='auto'\".\n",
      "In case you used a LabelEncoder before this OneHotEncoder to convert the categories to integers, then you can now use the OneHotEncoder directly.\n",
      "  warnings.warn(msg, FutureWarning)\n",
      "/Users/xiamingjin/miniconda3/lib/python3.7/site-packages/sklearn/preprocessing/_encoders.py:415: FutureWarning: The handling of integer data will change in version 0.22. Currently, the categories are determined based on the range [0, max(values)], while in the future they will be determined based on the unique values.\n",
      "If you want the future behaviour and silence this warning, you can specify \"categories='auto'\".\n",
      "In case you used a LabelEncoder before this OneHotEncoder to convert the categories to integers, then you can now use the OneHotEncoder directly.\n",
      "  warnings.warn(msg, FutureWarning)\n",
      "/Users/xiamingjin/miniconda3/lib/python3.7/site-packages/sklearn/preprocessing/_encoders.py:415: FutureWarning: The handling of integer data will change in version 0.22. Currently, the categories are determined based on the range [0, max(values)], while in the future they will be determined based on the unique values.\n",
      "If you want the future behaviour and silence this warning, you can specify \"categories='auto'\".\n",
      "In case you used a LabelEncoder before this OneHotEncoder to convert the categories to integers, then you can now use the OneHotEncoder directly.\n",
      "  warnings.warn(msg, FutureWarning)\n",
      "/Users/xiamingjin/miniconda3/lib/python3.7/site-packages/sklearn/preprocessing/_encoders.py:415: FutureWarning: The handling of integer data will change in version 0.22. Currently, the categories are determined based on the range [0, max(values)], while in the future they will be determined based on the unique values.\n",
      "If you want the future behaviour and silence this warning, you can specify \"categories='auto'\".\n",
      "In case you used a LabelEncoder before this OneHotEncoder to convert the categories to integers, then you can now use the OneHotEncoder directly.\n",
      "  warnings.warn(msg, FutureWarning)\n",
      "/Users/xiamingjin/miniconda3/lib/python3.7/site-packages/sklearn/preprocessing/_encoders.py:415: FutureWarning: The handling of integer data will change in version 0.22. Currently, the categories are determined based on the range [0, max(values)], while in the future they will be determined based on the unique values.\n",
      "If you want the future behaviour and silence this warning, you can specify \"categories='auto'\".\n",
      "In case you used a LabelEncoder before this OneHotEncoder to convert the categories to integers, then you can now use the OneHotEncoder directly.\n",
      "  warnings.warn(msg, FutureWarning)\n",
      "/Users/xiamingjin/miniconda3/lib/python3.7/site-packages/sklearn/preprocessing/_encoders.py:415: FutureWarning: The handling of integer data will change in version 0.22. Currently, the categories are determined based on the range [0, max(values)], while in the future they will be determined based on the unique values.\n",
      "If you want the future behaviour and silence this warning, you can specify \"categories='auto'\".\n",
      "In case you used a LabelEncoder before this OneHotEncoder to convert the categories to integers, then you can now use the OneHotEncoder directly.\n",
      "  warnings.warn(msg, FutureWarning)\n",
      "/Users/xiamingjin/miniconda3/lib/python3.7/site-packages/sklearn/preprocessing/_encoders.py:415: FutureWarning: The handling of integer data will change in version 0.22. Currently, the categories are determined based on the range [0, max(values)], while in the future they will be determined based on the unique values.\n",
      "If you want the future behaviour and silence this warning, you can specify \"categories='auto'\".\n",
      "In case you used a LabelEncoder before this OneHotEncoder to convert the categories to integers, then you can now use the OneHotEncoder directly.\n",
      "  warnings.warn(msg, FutureWarning)\n",
      "/Users/xiamingjin/miniconda3/lib/python3.7/site-packages/sklearn/preprocessing/_encoders.py:415: FutureWarning: The handling of integer data will change in version 0.22. Currently, the categories are determined based on the range [0, max(values)], while in the future they will be determined based on the unique values.\n",
      "If you want the future behaviour and silence this warning, you can specify \"categories='auto'\".\n",
      "In case you used a LabelEncoder before this OneHotEncoder to convert the categories to integers, then you can now use the OneHotEncoder directly.\n",
      "  warnings.warn(msg, FutureWarning)\n",
      "/Users/xiamingjin/miniconda3/lib/python3.7/site-packages/sklearn/preprocessing/_encoders.py:415: FutureWarning: The handling of integer data will change in version 0.22. Currently, the categories are determined based on the range [0, max(values)], while in the future they will be determined based on the unique values.\n",
      "If you want the future behaviour and silence this warning, you can specify \"categories='auto'\".\n",
      "In case you used a LabelEncoder before this OneHotEncoder to convert the categories to integers, then you can now use the OneHotEncoder directly.\n",
      "  warnings.warn(msg, FutureWarning)\n",
      "/Users/xiamingjin/miniconda3/lib/python3.7/site-packages/sklearn/preprocessing/_encoders.py:415: FutureWarning: The handling of integer data will change in version 0.22. Currently, the categories are determined based on the range [0, max(values)], while in the future they will be determined based on the unique values.\n",
      "If you want the future behaviour and silence this warning, you can specify \"categories='auto'\".\n",
      "In case you used a LabelEncoder before this OneHotEncoder to convert the categories to integers, then you can now use the OneHotEncoder directly.\n",
      "  warnings.warn(msg, FutureWarning)\n"
     ]
    }
   ],
   "source": [
    "cat_features = ['PhoneService', 'MultipleLines', 'InternetService', 'OnlineSecurity',\n",
    "                       'OnlineBackup', 'DeviceProtection', 'TechSupport', 'StreamingTV', 'StreamingMovies', 'Contract', \n",
    "                       'PaperlessBilling', 'PaymentMethod', 'Offer', 'InternetType']\n",
    "\n",
    "encoded_features = []\n",
    "\n",
    "for feature in cat_features:\n",
    "    # Encode categorical features as a one-hot numeric array\n",
    "    encoded_feat = OneHotEncoder().fit_transform(data[feature].values.reshape(-1, 1)).toarray()\n",
    "    n = data[feature].nunique()\n",
    "    cols = ['{}_{}'.format(feature, n) for n in range(1, n + 1)]\n",
    "    encoded_df = pd.DataFrame(encoded_feat, columns=cols)\n",
    "    encoded_df.index = data.index\n",
    "    encoded_features.append(encoded_df)\n",
    "data = pd.concat([data, *encoded_features], axis=1)\n",
    "    \n",
    "print('Number of encoded feautes:', len(encoded_features))\n",
    "\n",
    "# Drop columns that generated one-hot encoded variables\n",
    "data2 = data.copy()\n",
    "drop_cols = ['PhoneService', 'MultipleLines', 'InternetService', 'OnlineSecurity',\n",
    "                       'OnlineBackup', 'DeviceProtection', 'TechSupport', 'StreamingTV', 'StreamingMovies', 'Contract', \n",
    "                       'PaperlessBilling', 'PaymentMethod', 'Offer', 'InternetType']\n",
    "data.drop(columns=drop_cols, inplace=True)"
   ]
  },
  {
   "cell_type": "code",
   "execution_count": 10,
   "metadata": {},
   "outputs": [
    {
     "name": "stdout",
     "output_type": "stream",
     "text": [
      "X_train shape: (1996, 70)\n",
      "X_test shape: (666, 70)\n"
     ]
    }
   ],
   "source": [
    "X = data.drop(columns=['ChurnValue']).values\n",
    "y = data['ChurnValue'].values\n",
    "\n",
    "# Splitting the data\n",
    "# 75% train\n",
    "# 25% test\n",
    "x_train, x_test, y_train, y_test = train_test_split(X, y, test_size=0.25,  stratify=y, random_state=22)\n",
    "print('X_train shape: {}'.format(x_train.shape))\n",
    "print('X_test shape: {}'.format(x_test.shape))"
   ]
  },
  {
   "cell_type": "code",
   "execution_count": 11,
   "metadata": {},
   "outputs": [
    {
     "name": "stdout",
     "output_type": "stream",
     "text": [
      "CPU times: user 488 ms, sys: 9.34 ms, total: 497 ms\n",
      "Wall time: 164 ms\n"
     ]
    },
    {
     "name": "stderr",
     "output_type": "stream",
     "text": [
      "/Users/xiamingjin/miniconda3/lib/python3.7/site-packages/sklearn/linear_model/logistic.py:432: FutureWarning: Default solver will be changed to 'lbfgs' in 0.22. Specify a solver to silence this warning.\n",
      "  FutureWarning)\n",
      "/Users/xiamingjin/miniconda3/lib/python3.7/site-packages/sklearn/linear_model/logistic.py:432: FutureWarning: Default solver will be changed to 'lbfgs' in 0.22. Specify a solver to silence this warning.\n",
      "  FutureWarning)\n",
      "/Users/xiamingjin/miniconda3/lib/python3.7/site-packages/sklearn/linear_model/logistic.py:432: FutureWarning: Default solver will be changed to 'lbfgs' in 0.22. Specify a solver to silence this warning.\n",
      "  FutureWarning)\n",
      "/Users/xiamingjin/miniconda3/lib/python3.7/site-packages/sklearn/linear_model/logistic.py:432: FutureWarning: Default solver will be changed to 'lbfgs' in 0.22. Specify a solver to silence this warning.\n",
      "  FutureWarning)\n"
     ]
    }
   ],
   "source": [
    "%%time\n",
    "\n",
    "# Provides train/test indices to split data in train/test sets.\n",
    "skf = StratifiedKFold(n_splits=4)\n",
    "val_auc_scores = []\n",
    "\n",
    "for train_index, valid_index in skf.split(x_train, y_train):\n",
    "    x_pseudo_train, x_pseudo_valid = x_train[train_index], x_train[valid_index]\n",
    "    y_pseudo_train, y_pseudo_valid = y_train[train_index], y_train[valid_index]\n",
    "    # Standardize features by removing the mean and scaling to unit variance\n",
    "    ss = StandardScaler()\n",
    "    # Fit to data, then transform it.\n",
    "    x_pseudo_train_scaled = ss.fit_transform(x_pseudo_train)\n",
    "    # Perform standardization by centering and scaling\n",
    "    x_pseudo_valid_scaled = ss.transform(x_pseudo_valid)\n",
    "    # Logistic Regression\n",
    "    lr = LogisticRegression() # Using default parameters\n",
    "    # Fit the model according to the given training data\n",
    "    lr.fit(x_pseudo_train_scaled, y_pseudo_train)\n",
    "    # Predict logarithm of probability estimates.\n",
    "    y_pred_valid_probs = lr.predict_proba(x_pseudo_valid_scaled)[:, 1]\n",
    "    # Compute Receiver operating characteristic (ROC)\n",
    "    val_fpr, val_tpr, val_thresholds = roc_curve(y_pseudo_valid, y_pred_valid_probs)\n",
    "    # Compute Area Under the Curve (AUC) using the trapezoidal rule\n",
    "    val_auc_score = auc(val_fpr, val_tpr)\n",
    "    val_auc_scores.append(val_auc_score)"
   ]
  },
  {
   "cell_type": "code",
   "execution_count": 12,
   "metadata": {},
   "outputs": [
    {
     "name": "stderr",
     "output_type": "stream",
     "text": [
      "/Users/xiamingjin/miniconda3/lib/python3.7/site-packages/sklearn/linear_model/logistic.py:432: FutureWarning: Default solver will be changed to 'lbfgs' in 0.22. Specify a solver to silence this warning.\n",
      "  FutureWarning)\n"
     ]
    },
    {
     "data": {
      "text/html": [
       "<div>\n",
       "<style scoped>\n",
       "    .dataframe tbody tr th:only-of-type {\n",
       "        vertical-align: middle;\n",
       "    }\n",
       "\n",
       "    .dataframe tbody tr th {\n",
       "        vertical-align: top;\n",
       "    }\n",
       "\n",
       "    .dataframe thead th {\n",
       "        text-align: right;\n",
       "    }\n",
       "</style>\n",
       "<table border=\"1\" class=\"dataframe\">\n",
       "  <thead>\n",
       "    <tr style=\"text-align: right;\">\n",
       "      <th>True</th>\n",
       "      <th>0</th>\n",
       "      <th>1</th>\n",
       "      <th>All</th>\n",
       "    </tr>\n",
       "    <tr>\n",
       "      <th>Predicted</th>\n",
       "      <th></th>\n",
       "      <th></th>\n",
       "      <th></th>\n",
       "    </tr>\n",
       "  </thead>\n",
       "  <tbody>\n",
       "    <tr>\n",
       "      <th>0</th>\n",
       "      <td>536</td>\n",
       "      <td>44</td>\n",
       "      <td>580</td>\n",
       "    </tr>\n",
       "    <tr>\n",
       "      <th>1</th>\n",
       "      <td>23</td>\n",
       "      <td>63</td>\n",
       "      <td>86</td>\n",
       "    </tr>\n",
       "    <tr>\n",
       "      <th>All</th>\n",
       "      <td>559</td>\n",
       "      <td>107</td>\n",
       "      <td>666</td>\n",
       "    </tr>\n",
       "  </tbody>\n",
       "</table>\n",
       "</div>"
      ],
      "text/plain": [
       "True         0    1  All\n",
       "Predicted               \n",
       "0          536   44  580\n",
       "1           23   63   86\n",
       "All        559  107  666"
      ]
     },
     "execution_count": 12,
     "metadata": {},
     "output_type": "execute_result"
    }
   ],
   "source": [
    "# Standardize features by removing the mean and scaling to unit variance\n",
    "ss = StandardScaler()\n",
    "# Fit to data, then transform it.\n",
    "x_train_scaled = ss.fit_transform(x_train)\n",
    "# Perform standardization by centering and scaling\n",
    "x_test_scaled = ss.transform(x_test)\n",
    "\n",
    "# Applying logistic regression classifier\n",
    "lr = LogisticRegression()        # Using default parameters\n",
    "lr.fit(x_train_scaled, y_train)  # Training the model with X_train, y_train\n",
    "\n",
    "# Generate Confusion Matrix\n",
    "y_pred = lr.predict(x_test_scaled)\n",
    "y_pred = pd.Series(y_pred)\n",
    "y_test = pd.Series(y_test)\n",
    "pd.crosstab(y_pred, y_test, rownames=['Predicted'], colnames=['True'], margins=True)"
   ]
  },
  {
   "cell_type": "code",
   "execution_count": 13,
   "metadata": {},
   "outputs": [
    {
     "name": "stdout",
     "output_type": "stream",
     "text": [
      "              precision    recall  f1-score   support\n",
      "\n",
      "           0       0.92      0.96      0.94       559\n",
      "           1       0.73      0.59      0.65       107\n",
      "\n",
      "    accuracy                           0.90       666\n",
      "   macro avg       0.83      0.77      0.80       666\n",
      "weighted avg       0.89      0.90      0.89       666\n",
      "\n"
     ]
    }
   ],
   "source": [
    "print(classification_report(y_test,y_pred))"
   ]
  },
  {
   "cell_type": "code",
   "execution_count": null,
   "metadata": {},
   "outputs": [],
   "source": []
  }
 ],
 "metadata": {
  "kernelspec": {
   "display_name": "Python 3",
   "language": "python",
   "name": "python3"
  },
  "language_info": {
   "codemirror_mode": {
    "name": "ipython",
    "version": 3
   },
   "file_extension": ".py",
   "mimetype": "text/x-python",
   "name": "python",
   "nbconvert_exporter": "python",
   "pygments_lexer": "ipython3",
   "version": "3.7.4"
  }
 },
 "nbformat": 4,
 "nbformat_minor": 2
}
